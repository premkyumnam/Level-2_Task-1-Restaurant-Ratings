{
 "cells": [
  {
   "cell_type": "code",
   "execution_count": 9,
   "id": "da8781ff",
   "metadata": {},
   "outputs": [],
   "source": [
    "#Importing Libraries\n",
    "import numpy as np\n",
    "import pandas as pd\n",
    "import matplotlib.pyplot as plt\n",
    "import seaborn as sns"
   ]
  },
  {
   "cell_type": "code",
   "execution_count": 10,
   "id": "f1e195f4",
   "metadata": {},
   "outputs": [],
   "source": [
    "#Loading dataset\n",
    "df = pd.read_csv('G:\\DataAnalysis\\Dataset .csv')"
   ]
  },
  {
   "cell_type": "code",
   "execution_count": 11,
   "id": "a4a3210f",
   "metadata": {},
   "outputs": [
    {
     "data": {
      "text/html": [
       "<div>\n",
       "<style scoped>\n",
       "    .dataframe tbody tr th:only-of-type {\n",
       "        vertical-align: middle;\n",
       "    }\n",
       "\n",
       "    .dataframe tbody tr th {\n",
       "        vertical-align: top;\n",
       "    }\n",
       "\n",
       "    .dataframe thead th {\n",
       "        text-align: right;\n",
       "    }\n",
       "</style>\n",
       "<table border=\"1\" class=\"dataframe\">\n",
       "  <thead>\n",
       "    <tr style=\"text-align: right;\">\n",
       "      <th></th>\n",
       "      <th>Restaurant ID</th>\n",
       "      <th>Restaurant Name</th>\n",
       "      <th>Country Code</th>\n",
       "      <th>City</th>\n",
       "      <th>Address</th>\n",
       "      <th>Locality</th>\n",
       "      <th>Locality Verbose</th>\n",
       "      <th>Longitude</th>\n",
       "      <th>Latitude</th>\n",
       "      <th>Cuisines</th>\n",
       "      <th>...</th>\n",
       "      <th>Currency</th>\n",
       "      <th>Has Table booking</th>\n",
       "      <th>Has Online delivery</th>\n",
       "      <th>Is delivering now</th>\n",
       "      <th>Switch to order menu</th>\n",
       "      <th>Price range</th>\n",
       "      <th>Aggregate rating</th>\n",
       "      <th>Rating color</th>\n",
       "      <th>Rating text</th>\n",
       "      <th>Votes</th>\n",
       "    </tr>\n",
       "  </thead>\n",
       "  <tbody>\n",
       "    <tr>\n",
       "      <th>0</th>\n",
       "      <td>6317637</td>\n",
       "      <td>Le Petit Souffle</td>\n",
       "      <td>162</td>\n",
       "      <td>Makati City</td>\n",
       "      <td>Third Floor, Century City Mall, Kalayaan Avenu...</td>\n",
       "      <td>Century City Mall, Poblacion, Makati City</td>\n",
       "      <td>Century City Mall, Poblacion, Makati City, Mak...</td>\n",
       "      <td>121.027535</td>\n",
       "      <td>14.565443</td>\n",
       "      <td>French, Japanese, Desserts</td>\n",
       "      <td>...</td>\n",
       "      <td>Botswana Pula(P)</td>\n",
       "      <td>Yes</td>\n",
       "      <td>No</td>\n",
       "      <td>No</td>\n",
       "      <td>No</td>\n",
       "      <td>3</td>\n",
       "      <td>4.8</td>\n",
       "      <td>Dark Green</td>\n",
       "      <td>Excellent</td>\n",
       "      <td>314</td>\n",
       "    </tr>\n",
       "    <tr>\n",
       "      <th>1</th>\n",
       "      <td>6304287</td>\n",
       "      <td>Izakaya Kikufuji</td>\n",
       "      <td>162</td>\n",
       "      <td>Makati City</td>\n",
       "      <td>Little Tokyo, 2277 Chino Roces Avenue, Legaspi...</td>\n",
       "      <td>Little Tokyo, Legaspi Village, Makati City</td>\n",
       "      <td>Little Tokyo, Legaspi Village, Makati City, Ma...</td>\n",
       "      <td>121.014101</td>\n",
       "      <td>14.553708</td>\n",
       "      <td>Japanese</td>\n",
       "      <td>...</td>\n",
       "      <td>Botswana Pula(P)</td>\n",
       "      <td>Yes</td>\n",
       "      <td>No</td>\n",
       "      <td>No</td>\n",
       "      <td>No</td>\n",
       "      <td>3</td>\n",
       "      <td>4.5</td>\n",
       "      <td>Dark Green</td>\n",
       "      <td>Excellent</td>\n",
       "      <td>591</td>\n",
       "    </tr>\n",
       "    <tr>\n",
       "      <th>2</th>\n",
       "      <td>6300002</td>\n",
       "      <td>Heat - Edsa Shangri-La</td>\n",
       "      <td>162</td>\n",
       "      <td>Mandaluyong City</td>\n",
       "      <td>Edsa Shangri-La, 1 Garden Way, Ortigas, Mandal...</td>\n",
       "      <td>Edsa Shangri-La, Ortigas, Mandaluyong City</td>\n",
       "      <td>Edsa Shangri-La, Ortigas, Mandaluyong City, Ma...</td>\n",
       "      <td>121.056831</td>\n",
       "      <td>14.581404</td>\n",
       "      <td>Seafood, Asian, Filipino, Indian</td>\n",
       "      <td>...</td>\n",
       "      <td>Botswana Pula(P)</td>\n",
       "      <td>Yes</td>\n",
       "      <td>No</td>\n",
       "      <td>No</td>\n",
       "      <td>No</td>\n",
       "      <td>4</td>\n",
       "      <td>4.4</td>\n",
       "      <td>Green</td>\n",
       "      <td>Very Good</td>\n",
       "      <td>270</td>\n",
       "    </tr>\n",
       "    <tr>\n",
       "      <th>3</th>\n",
       "      <td>6318506</td>\n",
       "      <td>Ooma</td>\n",
       "      <td>162</td>\n",
       "      <td>Mandaluyong City</td>\n",
       "      <td>Third Floor, Mega Fashion Hall, SM Megamall, O...</td>\n",
       "      <td>SM Megamall, Ortigas, Mandaluyong City</td>\n",
       "      <td>SM Megamall, Ortigas, Mandaluyong City, Mandal...</td>\n",
       "      <td>121.056475</td>\n",
       "      <td>14.585318</td>\n",
       "      <td>Japanese, Sushi</td>\n",
       "      <td>...</td>\n",
       "      <td>Botswana Pula(P)</td>\n",
       "      <td>No</td>\n",
       "      <td>No</td>\n",
       "      <td>No</td>\n",
       "      <td>No</td>\n",
       "      <td>4</td>\n",
       "      <td>4.9</td>\n",
       "      <td>Dark Green</td>\n",
       "      <td>Excellent</td>\n",
       "      <td>365</td>\n",
       "    </tr>\n",
       "    <tr>\n",
       "      <th>4</th>\n",
       "      <td>6314302</td>\n",
       "      <td>Sambo Kojin</td>\n",
       "      <td>162</td>\n",
       "      <td>Mandaluyong City</td>\n",
       "      <td>Third Floor, Mega Atrium, SM Megamall, Ortigas...</td>\n",
       "      <td>SM Megamall, Ortigas, Mandaluyong City</td>\n",
       "      <td>SM Megamall, Ortigas, Mandaluyong City, Mandal...</td>\n",
       "      <td>121.057508</td>\n",
       "      <td>14.584450</td>\n",
       "      <td>Japanese, Korean</td>\n",
       "      <td>...</td>\n",
       "      <td>Botswana Pula(P)</td>\n",
       "      <td>Yes</td>\n",
       "      <td>No</td>\n",
       "      <td>No</td>\n",
       "      <td>No</td>\n",
       "      <td>4</td>\n",
       "      <td>4.8</td>\n",
       "      <td>Dark Green</td>\n",
       "      <td>Excellent</td>\n",
       "      <td>229</td>\n",
       "    </tr>\n",
       "  </tbody>\n",
       "</table>\n",
       "<p>5 rows × 21 columns</p>\n",
       "</div>"
      ],
      "text/plain": [
       "   Restaurant ID         Restaurant Name  Country Code              City  \\\n",
       "0        6317637        Le Petit Souffle           162       Makati City   \n",
       "1        6304287        Izakaya Kikufuji           162       Makati City   \n",
       "2        6300002  Heat - Edsa Shangri-La           162  Mandaluyong City   \n",
       "3        6318506                    Ooma           162  Mandaluyong City   \n",
       "4        6314302             Sambo Kojin           162  Mandaluyong City   \n",
       "\n",
       "                                             Address  \\\n",
       "0  Third Floor, Century City Mall, Kalayaan Avenu...   \n",
       "1  Little Tokyo, 2277 Chino Roces Avenue, Legaspi...   \n",
       "2  Edsa Shangri-La, 1 Garden Way, Ortigas, Mandal...   \n",
       "3  Third Floor, Mega Fashion Hall, SM Megamall, O...   \n",
       "4  Third Floor, Mega Atrium, SM Megamall, Ortigas...   \n",
       "\n",
       "                                     Locality  \\\n",
       "0   Century City Mall, Poblacion, Makati City   \n",
       "1  Little Tokyo, Legaspi Village, Makati City   \n",
       "2  Edsa Shangri-La, Ortigas, Mandaluyong City   \n",
       "3      SM Megamall, Ortigas, Mandaluyong City   \n",
       "4      SM Megamall, Ortigas, Mandaluyong City   \n",
       "\n",
       "                                    Locality Verbose   Longitude   Latitude  \\\n",
       "0  Century City Mall, Poblacion, Makati City, Mak...  121.027535  14.565443   \n",
       "1  Little Tokyo, Legaspi Village, Makati City, Ma...  121.014101  14.553708   \n",
       "2  Edsa Shangri-La, Ortigas, Mandaluyong City, Ma...  121.056831  14.581404   \n",
       "3  SM Megamall, Ortigas, Mandaluyong City, Mandal...  121.056475  14.585318   \n",
       "4  SM Megamall, Ortigas, Mandaluyong City, Mandal...  121.057508  14.584450   \n",
       "\n",
       "                           Cuisines  ...          Currency Has Table booking  \\\n",
       "0        French, Japanese, Desserts  ...  Botswana Pula(P)               Yes   \n",
       "1                          Japanese  ...  Botswana Pula(P)               Yes   \n",
       "2  Seafood, Asian, Filipino, Indian  ...  Botswana Pula(P)               Yes   \n",
       "3                   Japanese, Sushi  ...  Botswana Pula(P)                No   \n",
       "4                  Japanese, Korean  ...  Botswana Pula(P)               Yes   \n",
       "\n",
       "  Has Online delivery Is delivering now Switch to order menu Price range  \\\n",
       "0                  No                No                   No           3   \n",
       "1                  No                No                   No           3   \n",
       "2                  No                No                   No           4   \n",
       "3                  No                No                   No           4   \n",
       "4                  No                No                   No           4   \n",
       "\n",
       "   Aggregate rating  Rating color Rating text Votes  \n",
       "0               4.8    Dark Green   Excellent   314  \n",
       "1               4.5    Dark Green   Excellent   591  \n",
       "2               4.4         Green   Very Good   270  \n",
       "3               4.9    Dark Green   Excellent   365  \n",
       "4               4.8    Dark Green   Excellent   229  \n",
       "\n",
       "[5 rows x 21 columns]"
      ]
     },
     "execution_count": 11,
     "metadata": {},
     "output_type": "execute_result"
    }
   ],
   "source": [
    "df.head()"
   ]
  },
  {
   "cell_type": "code",
   "execution_count": 12,
   "id": "1cbd700d",
   "metadata": {},
   "outputs": [
    {
     "name": "stdout",
     "output_type": "stream",
     "text": [
      "<class 'pandas.core.frame.DataFrame'>\n",
      "RangeIndex: 9551 entries, 0 to 9550\n",
      "Data columns (total 21 columns):\n",
      " #   Column                Non-Null Count  Dtype  \n",
      "---  ------                --------------  -----  \n",
      " 0   Restaurant ID         9551 non-null   int64  \n",
      " 1   Restaurant Name       9551 non-null   object \n",
      " 2   Country Code          9551 non-null   int64  \n",
      " 3   City                  9551 non-null   object \n",
      " 4   Address               9551 non-null   object \n",
      " 5   Locality              9551 non-null   object \n",
      " 6   Locality Verbose      9551 non-null   object \n",
      " 7   Longitude             9551 non-null   float64\n",
      " 8   Latitude              9551 non-null   float64\n",
      " 9   Cuisines              9542 non-null   object \n",
      " 10  Average Cost for two  9551 non-null   int64  \n",
      " 11  Currency              9551 non-null   object \n",
      " 12  Has Table booking     9551 non-null   object \n",
      " 13  Has Online delivery   9551 non-null   object \n",
      " 14  Is delivering now     9551 non-null   object \n",
      " 15  Switch to order menu  9551 non-null   object \n",
      " 16  Price range           9551 non-null   int64  \n",
      " 17  Aggregate rating      9551 non-null   float64\n",
      " 18  Rating color          9551 non-null   object \n",
      " 19  Rating text           9551 non-null   object \n",
      " 20  Votes                 9551 non-null   int64  \n",
      "dtypes: float64(3), int64(5), object(13)\n",
      "memory usage: 1.5+ MB\n"
     ]
    }
   ],
   "source": [
    "df.info()"
   ]
  },
  {
   "cell_type": "code",
   "execution_count": 13,
   "id": "91d7980c",
   "metadata": {},
   "outputs": [],
   "source": [
    "df_clean=df.dropna(inplace=True)"
   ]
  },
  {
   "cell_type": "code",
   "execution_count": 14,
   "id": "3b29d4dd",
   "metadata": {},
   "outputs": [
    {
     "name": "stdout",
     "output_type": "stream",
     "text": [
      "<class 'pandas.core.frame.DataFrame'>\n",
      "Int64Index: 9542 entries, 0 to 9550\n",
      "Data columns (total 21 columns):\n",
      " #   Column                Non-Null Count  Dtype  \n",
      "---  ------                --------------  -----  \n",
      " 0   Restaurant ID         9542 non-null   int64  \n",
      " 1   Restaurant Name       9542 non-null   object \n",
      " 2   Country Code          9542 non-null   int64  \n",
      " 3   City                  9542 non-null   object \n",
      " 4   Address               9542 non-null   object \n",
      " 5   Locality              9542 non-null   object \n",
      " 6   Locality Verbose      9542 non-null   object \n",
      " 7   Longitude             9542 non-null   float64\n",
      " 8   Latitude              9542 non-null   float64\n",
      " 9   Cuisines              9542 non-null   object \n",
      " 10  Average Cost for two  9542 non-null   int64  \n",
      " 11  Currency              9542 non-null   object \n",
      " 12  Has Table booking     9542 non-null   object \n",
      " 13  Has Online delivery   9542 non-null   object \n",
      " 14  Is delivering now     9542 non-null   object \n",
      " 15  Switch to order menu  9542 non-null   object \n",
      " 16  Price range           9542 non-null   int64  \n",
      " 17  Aggregate rating      9542 non-null   float64\n",
      " 18  Rating color          9542 non-null   object \n",
      " 19  Rating text           9542 non-null   object \n",
      " 20  Votes                 9542 non-null   int64  \n",
      "dtypes: float64(3), int64(5), object(13)\n",
      "memory usage: 1.6+ MB\n"
     ]
    }
   ],
   "source": [
    "df.info()"
   ]
  },
  {
   "cell_type": "code",
   "execution_count": null,
   "id": "2cab954b",
   "metadata": {},
   "outputs": [],
   "source": []
  },
  {
   "cell_type": "markdown",
   "id": "00a27638",
   "metadata": {},
   "source": [
    "# Level 2: Task-1: Restaurant Ratings"
   ]
  },
  {
   "cell_type": "code",
   "execution_count": 15,
   "id": "7eed3f02",
   "metadata": {},
   "outputs": [],
   "source": [
    "# Converting ratings and votes to numeric values\n",
    "df[\"Aggregate rating\"] = pd.to_numeric(df[\"Aggregate rating\"], errors='coerce')\n",
    "df[\"Votes\"] = pd.to_numeric(df[\"Votes\"], errors='coerce')"
   ]
  },
  {
   "cell_type": "code",
   "execution_count": 16,
   "id": "eb0b22df",
   "metadata": {},
   "outputs": [
    {
     "name": "stdout",
     "output_type": "stream",
     "text": [
      "Distribution of Aggregate Ratings:\n",
      " 0.0    2148\n",
      "1.8       1\n",
      "1.9       2\n",
      "2.0       7\n",
      "2.1      15\n",
      "2.2      27\n",
      "2.3      47\n",
      "2.4      87\n",
      "2.5     110\n",
      "2.6     191\n",
      "2.7     250\n",
      "2.8     315\n",
      "2.9     381\n",
      "3.0     468\n",
      "3.1     519\n",
      "3.2     522\n",
      "3.3     483\n",
      "3.4     495\n",
      "3.5     480\n",
      "3.6     458\n",
      "3.7     427\n",
      "3.8     399\n",
      "3.9     332\n",
      "4.0     266\n",
      "4.1     274\n",
      "4.2     221\n",
      "4.3     174\n",
      "4.4     143\n",
      "4.5      95\n",
      "4.6      78\n",
      "4.7      41\n",
      "4.8      25\n",
      "4.9      61\n",
      "Name: Aggregate rating, dtype: int64\n"
     ]
    }
   ],
   "source": [
    "# Analyzing the distribution of aggregate ratings\n",
    "distribution_rating = df[\"Aggregate rating\"].value_counts().sort_index()\n",
    "print(\"Distribution of Aggregate Ratings:\\n\", distribution_rating)"
   ]
  },
  {
   "cell_type": "code",
   "execution_count": 17,
   "id": "98cea879",
   "metadata": {},
   "outputs": [
    {
     "name": "stdout",
     "output_type": "stream",
     "text": [
      "\n",
      "Most Common Rating Range: 0.0\n"
     ]
    }
   ],
   "source": [
    "# Finding the most common rating range\n",
    "most_common_rating_range = df[\"Aggregate rating\"].mode()[0]\n",
    "print(\"\\nMost Common Rating Range:\", most_common_rating_range)"
   ]
  },
  {
   "cell_type": "code",
   "execution_count": 18,
   "id": "1368a041",
   "metadata": {},
   "outputs": [],
   "source": [
    "# To calculate the average number of votes received by restaurants"
   ]
  },
  {
   "cell_type": "code",
   "execution_count": 19,
   "id": "acc0ed2e",
   "metadata": {},
   "outputs": [
    {
     "data": {
      "text/plain": [
       "1495919"
      ]
     },
     "execution_count": 19,
     "metadata": {},
     "output_type": "execute_result"
    }
   ],
   "source": [
    "total_votes=df[\"Votes\"].sum()\n",
    "total_votes"
   ]
  },
  {
   "cell_type": "code",
   "execution_count": 20,
   "id": "91bd73f9",
   "metadata": {},
   "outputs": [
    {
     "data": {
      "text/plain": [
       "156.7720603647034"
      ]
     },
     "execution_count": 20,
     "metadata": {},
     "output_type": "execute_result"
    }
   ],
   "source": [
    "average_votes=df[\"Votes\"].mean()\n",
    "average_votes"
   ]
  },
  {
   "cell_type": "code",
   "execution_count": 23,
   "id": "0f2d588d",
   "metadata": {},
   "outputs": [
    {
     "name": "stdout",
     "output_type": "stream",
     "text": [
      "The Average Number of Votes per Restaurant: 156.77\n"
     ]
    }
   ],
   "source": [
    "print(f\"The Average Number of Votes per Restaurant: {average_votes:.2f}\")"
   ]
  },
  {
   "cell_type": "code",
   "execution_count": 29,
   "id": "5110be8e",
   "metadata": {},
   "outputs": [
    {
     "data": {
      "image/png": "[encoded data removed]",
      "text/plain": [
       "<Figure size 576x360 with 1 Axes>"
      ]
     },
     "metadata": {
      "needs_background": "light"
     },
     "output_type": "display_data"
    }
   ],
   "source": [
    "#A bar Plot of rating distribution\n",
    "plt.figure(figsize=(8, 5))\n",
    "sns.barplot(\n",
    "    x=distribution_rating.index, \n",
    "    y=distribution_rating.values, \n",
    "    palette='plasma')\n",
    "\n",
    "plt.title(\"Restaurant Count by Rating Range\")\n",
    "plt.xlabel(\"Aggregate Rating Range\")\n",
    "plt.ylabel(\"Number of Restaurants\")\n",
    "plt.grid(axis='y', linestyle='--', alpha=0.6)\n",
    "plt.tight_layout()\n",
    "plt.show()"
   ]
  },
  {
   "cell_type": "code",
   "execution_count": null,
   "id": "50119316",
   "metadata": {},
   "outputs": [],
   "source": []
  },
  {
   "cell_type": "code",
   "execution_count": null,
   "id": "e0001909",
   "metadata": {},
   "outputs": [],
   "source": []
  },
  {
   "cell_type": "code",
   "execution_count": null,
   "id": "fbe80385",
   "metadata": {},
   "outputs": [],
   "source": []
  },
  {
   "cell_type": "code",
   "execution_count": null,
   "id": "61394c93",
   "metadata": {},
   "outputs": [],
   "source": []
  },
  {
   "cell_type": "code",
   "execution_count": 1,
   "id": "b6f1d509",
   "metadata": {},
   "outputs": [
    {
     "name": "stdout",
     "output_type": "stream",
     "text": [
      "8\n"
     ]
    }
   ],
   "source": [
    " print(5+3)"
   ]
  },
  {
   "cell_type": "code",
   "execution_count": null,
   "id": "2f61b1a5",
   "metadata": {},
   "outputs": [],
   "source": []
  },
  {
   "cell_type": "markdown",
   "id": "3ad0ebf8",
   "metadata": {},
   "source": [
    "# Task4_L2: RESTUARANT CHAINS"
   ]
  },
  {
   "cell_type": "code",
   "execution_count": 26,
   "id": "fcbc7ab8",
   "metadata": {},
   "outputs": [
    {
     "name": "stdout",
     "output_type": "stream",
     "text": [
      "✅ Restaurant Chains I found are:\n",
      "\n",
      "Cafe Coffee Day                   83\n",
      "Domino's Pizza                    79\n",
      "Subway                            63\n",
      "Green Chick Chop                  51\n",
      "McDonald's                        48\n",
      "                                  ..\n",
      "Zaika Kathi Rolls                  2\n",
      "The Night Owl                      2\n",
      "The Cheesecake Factory             2\n",
      "New Kadimi                         2\n",
      "Ceviche Tapas Bar & Restaurant     2\n",
      "Name: Restaurant Name, Length: 734, dtype: int64\n"
     ]
    }
   ],
   "source": [
    "# Step 1:Restaurant names that appear more than once (chains)\n",
    "no_of_Restaurants = df[\"Restaurant Name\"].value_counts()\n",
    "rest_chains = no_of_Restaurants[no_of_Restaurants > 1]\n",
    " \n",
    "print(\"✅ Restaurant Chains I found are:\\n\")\n",
    "print(rest_chains)\n"
   ]
  },
  {
   "cell_type": "code",
   "execution_count": 28,
   "id": "dcdecfbc",
   "metadata": {},
   "outputs": [
    {
     "name": "stdout",
     "output_type": "stream",
     "text": [
      "\n",
      "📊 Analysis of Restaurant Chains (by average rating & popularity):\n",
      "\n",
      "                           Aggregate rating  Votes  Number of Locations\n",
      "Restaurant Name                                                        \n",
      "Barbeque Nation                    4.353846  28142                   26\n",
      "AB's - Absolute Barbecues          4.825000  13400                    4\n",
      "Big Chill                          4.475000  10853                    4\n",
      "Farzi Cafe                         4.366667  10098                    6\n",
      "Truffles                           3.950000   9682                    2\n",
      "...                                     ...    ...                  ...\n",
      "Bikaner Misthan Bhandar            0.000000      0                    2\n",
      "Aap Ki Khatir                      0.000000      0                    2\n",
      "Street Cafe                        0.000000      0                    2\n",
      "Jyoti Sweets                       0.000000      0                    2\n",
      "Firangi Bake                       0.000000      0                    2\n",
      "\n",
      "[734 rows x 3 columns]\n"
     ]
    }
   ],
   "source": [
    "# Step 2: Keep only the rows from those chains\n",
    "df_chains = df[df[\"Restaurant Name\"].isin(rest_chains.index)]\n",
    "\n",
    "# Step 3: Group by restaurant name and calculate:\n",
    "# - Average rating\n",
    "# - Total votes (popularity)\n",
    "# - Number of locations\n",
    "chain_analysis = df_chains.groupby(\"Restaurant Name\").agg({\n",
    "    \"Aggregate rating\": \"mean\",     # Average rating per chain\n",
    "    \"Votes\": \"sum\",                 # Total number of votes (popularity)\n",
    "    \"Restaurant Name\": \"count\"      # Number of locations in the dataset\n",
    "}).rename(columns={\"Restaurant Name\": \"Number of Locations\"})\n",
    "\n",
    "# Step 4: Sort by popularity (total votes)\n",
    "chain_analysis = chain_analysis.sort_values(by=\"Votes\", ascending=False)\n",
    "\n",
    "# Step 5: Display the result\n",
    "print(\"\\n📊 Analysis of Restaurant Chains (by average rating & popularity):\\n\")\n",
    "print(chain_analysis)"
   ]
  },
  {
   "cell_type": "markdown",
   "id": "1170c35e",
   "metadata": {},
   "source": [
    "# Task#3_L2 : Geographical Analysis"
   ]
  },
  {
   "cell_type": "code",
   "execution_count": 35,
   "id": "39d8645f",
   "metadata": {},
   "outputs": [
    {
     "data": {
      "image/png": "[encoded data removed]",
      "text/plain": [
       "<Figure size 720x432 with 1 Axes>"
      ]
     },
     "metadata": {
      "needs_background": "light"
     },
     "output_type": "display_data"
    }
   ],
   "source": [
    "plt.figure(figsize=(10, 6))\n",
    "plt.scatter(df_clean[\"Longitude\"], df_clean[\"Latitude\"], alpha=0.5, color=\"blue\", s=10)\n",
    "plt.xlabel(\"Longitude\")\n",
    "plt.ylabel(\"Latitude\")\n",
    "plt.title(\"Geographic Distribution of Restaurants\")\n",
    "plt.grid(True)\n",
    "plt.show()"
   ]
  },
  {
   "cell_type": "markdown",
   "id": "01d03104",
   "metadata": {},
   "source": [
    "Level 3 Task 1: Restaurant Reviews"
   ]
  },
  {
   "cell_type": "code",
   "execution_count": 37,
   "id": "74916a79",
   "metadata": {},
   "outputs": [
    {
     "name": "stdout",
     "output_type": "stream",
     "text": [
      "Top 5 Most Common Restaurant Chains:\n",
      " Cafe Coffee Day     83\n",
      "Domino's Pizza      79\n",
      "Subway              63\n",
      "Green Chick Chop    51\n",
      "McDonald's          48\n",
      "Name: Restaurant Name, dtype: int64 \n",
      "\n"
     ]
    }
   ],
   "source": [
    "# Top 5 Most Common Restaurant Chains\n",
    "top_chains_by_count = restaurant_chains.head(5)\n",
    "print(\"Top 5 Most Common Restaurant Chains:\\n\", top_chains_by_count, \"\\n\")"
   ]
  },
  {
   "cell_type": "markdown",
   "id": "d379d1b4",
   "metadata": {},
   "source": [
    "# "
   ]
  },
  {
   "cell_type": "code",
   "execution_count": 43,
   "id": "96b423b2",
   "metadata": {},
   "outputs": [
    {
     "name": "stdout",
     "output_type": "stream",
     "text": [
      "Top 5 Chains by Rating:\n",
      "                            Aggregate rating   Votes\n",
      "Restaurant Name                                    \n",
      "Talaga Sampireun                      4.900  1838.0\n",
      "Silantro Fil-Mex                      4.850   682.0\n",
      "AB's Absolute Barbecues               4.850  1575.5\n",
      "AB's - Absolute Barbecues             4.825  3350.0\n",
      "Naturals Ice Cream                    4.800  1547.0 \n",
      "\n",
      "Top 5 Chains by Highest Average Rating:\n",
      "                            Aggregate rating   Votes\n",
      "Restaurant Name                                    \n",
      "Talaga Sampireun                      4.900  1838.0\n",
      "Silantro Fil-Mex                      4.850   682.0\n",
      "AB's Absolute Barbecues               4.850  1575.5\n",
      "AB's - Absolute Barbecues             4.825  3350.0\n",
      "Naturals Ice Cream                    4.800  1547.0 \n",
      "\n",
      "Top 5 Chains by Popularity:\n",
      "                            Aggregate rating        Votes\n",
      "Restaurant Name                                         \n",
      "Truffles                           3.950000  4841.000000\n",
      "Joey's Pizza                       4.250000  3903.500000\n",
      "AB's - Absolute Barbecues          4.825000  3350.000000\n",
      "Big Chill                          4.475000  2713.250000\n",
      "Big Yellow Door                    4.266667  2503.666667 \n",
      "\n"
     ]
    }
   ],
   "source": [
    "print(\"Top 5 Chains by Rating:\\n\", top_chains_by_rating, \"\\n\")\n",
    "print(\"Top 5 Chains by Highest Average Rating:\\n\", top_chains_by_rating, \"\\n\")\n",
    "print(\"Top 5 Chains by Popularity:\\n\", top_chains_by_popularity, \"\\n\")"
   ]
  },
  {
   "cell_type": "markdown",
   "id": "41abddca",
   "metadata": {},
   "source": [
    "Top 5 Most Common Restaurant Chains (by number of locations):\n",
    "    Cafe Coffee Day – 83 locations\n",
    "Domino's Pizza – 79 locations\n",
    "Subway – 63 locations\n",
    "Green Chick Chop – 51 locations\n",
    "McDonald's – 48 locations\n",
    "Top 5 Chains by Highest Average Rating:\n",
    "Talaga Sampireun – 4.90 rating, 1838 votes\n",
    "Silantro Fil-Mex – 4.85 rating, 682 votes\n",
    "AB's Absolute Barbecues – 4.85 rating, 1575.5 votes\n",
    "AB's - Absolute Barbecues – 4.83 rating, 3350 votes\n",
    "Naturals Ice Cream – 4.80 rating, 1547 votes\n",
    "Top 5 Chains by Popularity (Most Votes):\n",
    "Truffles – 4841 votes, 3.95 rating\n",
    "Joey's Pizza – 3903.5 votes, 4.25 rating\n",
    "AB's - Absolute Barbecues – 3350 votes, 4.83 rating\n",
    "Big Chill – 2713.25 votes, 4.48 rating\n",
    "Big Yellow Door – 2503.67 votes, 4.27 rating"
   ]
  },
  {
   "cell_type": "code",
   "execution_count": 44,
   "id": "5511ad32",
   "metadata": {},
   "outputs": [
    {
     "name": "stdout",
     "output_type": "stream",
     "text": [
      "It looks like AB's - Absolute Barbecues stands out both in ratings and popularity.\n",
      "\n"
     ]
    }
   ],
   "source": [
    "# Identifying standout chains\n",
    "print(\"It looks like AB's - Absolute Barbecues stands out both in ratings and popularity.\\n\")"
   ]
  },
  {
   "cell_type": "markdown",
   "id": "e74781cb",
   "metadata": {},
   "source": [
    "# L#3_T#2: Votes Analysis"
   ]
  },
  {
   "cell_type": "code",
   "execution_count": 45,
   "id": "83f7119f",
   "metadata": {},
   "outputs": [
    {
     "data": {
      "image/png": "[encoded data removed]",
      "text/plain": [
       "<Figure size 720x576 with 1 Axes>"
      ]
     },
     "metadata": {
      "needs_background": "light"
     },
     "output_type": "display_data"
    }
   ],
   "source": [
    "# Votes Analysis\n",
    "highest_votes_restaurant = df_clean.loc[df_clean[\"Votes\"].idxmax(), [\"Restaurant Name\", \"Votes\", \"Aggregate rating\"]]\n",
    "lowest_votes_restaurant = df_clean.loc[df_clean[\"Votes\"].idxmin(), [\"Restaurant Name\", \"Votes\", \"Aggregate rating\"]]\n",
    "correlation_votes_rating = df_clean[\"Votes\"].corr(df_clean[\"Aggregate rating\"])\n",
    "plt.figure(figsize=(10, 8))\n",
    "sns.scatterplot(x=df_clean[\"Votes\"], y=df_clean[\"Aggregate rating\"], alpha=0.5)\n",
    "plt.xlabel(\"Number of Votes\")\n",
    "plt.ylabel(\"Aggregate Rating\")\n",
    "plt.title(\"Correlation Between Votes and Ratings\")\n",
    "plt.grid(True)\n",
    "plt.show()"
   ]
  },
  {
   "cell_type": "code",
   "execution_count": 46,
   "id": "a1984243",
   "metadata": {},
   "outputs": [
    {
     "name": "stdout",
     "output_type": "stream",
     "text": [
      "Highest Votes: Restaurant Name      Toit\n",
      "Votes               10934\n",
      "Aggregate rating      4.8\n",
      "Name: 728, dtype: object\n",
      "Lowest Votes: Restaurant Name     Cantinho da Gula\n",
      "Votes                              0\n",
      "Aggregate rating                 0.0\n",
      "Name: 69, dtype: object\n",
      "Correlation Between Votes and Rating: 0.31\n"
     ]
    }
   ],
   "source": [
    "print(f\"Highest Votes: {highest_votes_restaurant}\")\n",
    "print(f\"Lowest Votes: {lowest_votes_restaurant}\")\n",
    "print(f\"Correlation Between Votes and Rating: {correlation_votes_rating:.2f}\")"
   ]
  },
  {
   "cell_type": "markdown",
   "id": "6de3dd7d",
   "metadata": {},
   "source": [
    "Votes Analysis:\n",
    "Restaurant with the highest votes: Toit (10,934 votes, 4.8 rating).\n",
    "Restaurant with the lowest votes: Cantinho da Gula (0 votes, 0.0 rating).\n",
    "Correlation between votes and rating: 0.31 (moderate positive correlation).\n",
    "\n",
    "The scatter plot shows that restaurants with higher ratings tend to receive more votes, but the correlation is not very strong. Some highly rated restaurants still have fewer votes."
   ]
  },
  {
   "cell_type": "code",
   "execution_count": 47,
   "id": "1f493152",
   "metadata": {},
   "outputs": [
    {
     "data": {
      "image/png": "[encoded data removed]",
      "text/plain": [
       "<Figure size 432x288 with 1 Axes>"
      ]
     },
     "metadata": {
      "needs_background": "light"
     },
     "output_type": "display_data"
    },
    {
     "data": {
      "image/png": "[encoded data removed]",
      "text/plain": [
       "<Figure size 432x288 with 1 Axes>"
      ]
     },
     "metadata": {
      "needs_background": "light"
     },
     "output_type": "display_data"
    }
   ],
   "source": [
    "# Price Range vs Online Delivery & Table Booking\n",
    "online_delivery_by_price = df_clean.groupby(\"Price range\")[\"Has Online delivery\"].value_counts(normalize=True).unstack() * 100\n",
    "table_booking_by_price = df_clean.groupby(\"Price range\")[\"Has Table booking\"].value_counts(normalize=True).unstack() * 100\n",
    "online_delivery_by_price.plot(kind=\"bar\", stacked=True, color=[\"lightcoral\", \"lightblue\"], edgecolor=\"black\")\n",
    "plt.xlabel(\"Price Range\")\n",
    "plt.ylabel(\"Percentage of Restaurants\")\n",
    "plt.title(\"Online Delivery Availability by Price Range\")\n",
    "plt.legend(title=\"Has Online Delivery\")\n",
    "plt.grid(axis=\"y\", linestyle=\"--\", alpha=0.7)\n",
    "plt.show()\n",
    "table_booking_by_price.plot(kind=\"bar\", stacked=True, color=[\"lightgreen\", \"orange\"], edgecolor=\"black\")\n",
    "plt.xlabel(\"Price Range\")\n",
    "plt.ylabel(\"Percentage of Restaurants\")\n",
    "plt.title(\"Table Booking Availability by Price Range\")\n",
    "plt.legend(title=\"Has Table Booking\")\n",
    "plt.grid(axis=\"y\", linestyle=\"--\", alpha=0.7)\n",
    "plt.show()"
   ]
  },
  {
   "cell_type": "markdown",
   "id": "f800517a",
   "metadata": {},
   "source": [
    "Price Range vs. Online Delivery & Table Booking\n",
    "Online Delivery Trends:\n",
    "Price Range 1 (Lowest): 15.8% offer online delivery.\n",
    "Price Range 2: 41.31% offer online delivery.\n",
    "Price Range 3: 29.25% offer online delivery.\n",
    "Price Range 4 (Highest): Only 9.04% offer online delivery.\n",
    "🔹 Surprisingly, mid-range restaurants (Price Range 2) are most likely to offer online delivery. Higher-end restaurants (Price Range 4) rarely provide this service.\n",
    "\n",
    "Table Booking Trends:\n",
    "Price Range 1: 0.02% offer table booking.\n",
    "Price Range 2: 7.68% offer table booking.\n",
    "Price Range 3: 45.84% offer table booking.\n",
    "Price Range 4 (Highest): 46.76% offer table booking.\n",
    "🔹 Higher-priced restaurants (Price Ranges 3 & 4) are much more likely to offer table booking."
   ]
  },
  {
   "cell_type": "code",
   "execution_count": null,
   "id": "f9578cfa",
   "metadata": {},
   "outputs": [],
   "source": []
  }
 ],
 "metadata": {
  "kernelspec": {
   "display_name": "Python 3 (ipykernel)",
   "language": "python",
   "name": "python3"
  },
  "language_info": {
   "codemirror_mode": {
    "name": "ipython",
    "version": 3
   },
   "file_extension": ".py",
   "mimetype": "text/x-python",
   "name": "python",
   "nbconvert_exporter": "python",
   "pygments_lexer": "ipython3",
   "version": "3.8.13"
  }
 },
 "nbformat": 4,
 "nbformat_minor": 5
}
